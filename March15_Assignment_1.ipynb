{
 "cells": [
  {
   "cell_type": "code",
   "execution_count": 1,
   "metadata": {
    "collapsed": false
   },
   "outputs": [
    {
     "name": "stdout",
     "output_type": "stream",
     "text": [
      "1.MAC\n",
      "2.LINUX\n",
      "3.WINDOWS\n",
      "4.Quit\n",
      "Enter an Option:1\n",
      "\n",
      "Selected MAC\n",
      "\n",
      "1.MAC\n",
      "2.LINUX\n",
      "3.WINDOWS\n",
      "4.Quit\n",
      "Enter an Option:2\n",
      "\n",
      "Selected LINUX\n",
      "\n",
      "1.MAC\n",
      "2.LINUX\n",
      "3.WINDOWS\n",
      "4.Quit\n",
      "Enter an Option:3\n",
      "\n",
      "Selected WINDOWS\n",
      "\n",
      "1.MAC\n",
      "2.LINUX\n",
      "3.WINDOWS\n",
      "4.Quit\n",
      "Enter an Option:4\n",
      "\n",
      "No Option 4, Select proper Option\n",
      "\n",
      "1.MAC\n",
      "2.LINUX\n",
      "3.WINDOWS\n",
      "4.Quit\n",
      "Enter an Option:q\n",
      "\n",
      "Quit\n",
      "\n"
     ]
    }
   ],
   "source": [
    "\" Assignment 1 \"\n",
    "\n",
    "while True:\n",
    "    print \"1.MAC\\n2.LINUX\\n3.WINDOWS\\n4.Quit\"\n",
    "    opt = raw_input(\"Enter an Option:\")\n",
    "    if opt==\"1\":\n",
    "        print \"\\nSelected MAC\\n\"\n",
    "    elif opt ==\"2\":\n",
    "        print \"\\nSelected LINUX\\n\"\n",
    "    elif opt==\"3\":\n",
    "        print \"\\nSelected WINDOWS\\n\"\n",
    "    elif opt==\"q\":\n",
    "        print \"\\nQuit\\n\"\n",
    "        break\n",
    "    else:\n",
    "        print \"\\nNo Option %s, Select a Proper Option\\n\"%opt"
   ]
  },
  {
   "cell_type": "code",
   "execution_count": null,
   "metadata": {
    "collapsed": true
   },
   "outputs": [],
   "source": []
  }
 ],
 "metadata": {
  "kernelspec": {
   "display_name": "Python 2",
   "language": "python",
   "name": "python2"
  },
  "language_info": {
   "codemirror_mode": {
    "name": "ipython",
    "version": 2
   },
   "file_extension": ".py",
   "mimetype": "text/x-python",
   "name": "python",
   "nbconvert_exporter": "python",
   "pygments_lexer": "ipython2",
   "version": "2.7.13"
  }
 },
 "nbformat": 4,
 "nbformat_minor": 2
}
